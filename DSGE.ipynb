{
 "cells": [
  {
   "cell_type": "code",
   "execution_count": 1,
   "metadata": {
    "collapsed": true
   },
   "outputs": [],
   "source": [
    "import numpy as np\n",
    "import pandas as pd\n",
    "import matplotlib.pyplot as plt\n",
    "%matplotlib inline"
   ]
  },
  {
   "cell_type": "code",
   "execution_count": 2,
   "metadata": {
    "collapsed": false
   },
   "outputs": [],
   "source": [
    "# Blanchard Kahn solution\n",
    "class ReturnBK(object):\n",
    "    def __init__(self, H, R, F, Q):\n",
    "        self.H = H\n",
    "        self.R = R\n",
    "        self.F = F\n",
    "        self.Q = Q\n",
    "\n",
    "def BlanchardKahn(A0,A1,B,n,m):\n",
    "    # Finds solution to the following model: A0 y[t+1] = A1 y[t] + B e[t+1]\n",
    "    # m: number of non-predetermined (or forward-looking) variables\n",
    "    \n",
    "    invA0 = np.linalg.inv(A0)\n",
    "    A = np.dot(invA0,A1)\n",
    "    \n",
    "    Lambda,P = np.linalg.eig(A)\n",
    "    if sum(np.abs(Lambda)>1)==m:\n",
    "\n",
    "        idx=np.abs(Lambda).argsort()\n",
    "\n",
    "        Lambda = np.diag(Lambda[idx])\n",
    "        P = P[:,idx]\n",
    "\n",
    "        invP = np.linalg.inv(P)\n",
    "\n",
    "        Pstar11 = np.real(invP[:n,:n])\n",
    "        Pstar12 = np.real(invP[:n,n:])\n",
    "        Pstar21 = np.real(invP[n:,:n])\n",
    "        Pstar22 = np.real(invP[n:,n:])\n",
    "\n",
    "        invPstar22 = np.linalg.inv(Pstar22)\n",
    "        invPstarss = np.linalg.inv(Pstar11 - np.dot(np.dot(Pstar12,invPstar22),Pstar21))\n",
    "\n",
    "\n",
    "        Lambda1 = np.real(Lambda[:n,:n])\n",
    "        Lambda2 = np.real(Lambda[n:,n:])\n",
    "\n",
    "        Q = np.dot(np.dot(invP,invA0),B)\n",
    "        Q1 = np.real(Q[:n,:n])\n",
    "        Q2 = np.real(Q[n:,n:])\n",
    "\n",
    "        H_bk = -np.dot(invPstar22,Pstar21)\n",
    "        R_bk = np.zeros(shape=(H_bk.shape[0],H_bk.shape[0]))\n",
    "        F_bk = np.dot(np.dot(invPstarss,Lambda1),Pstar11 - np.dot(np.dot(Pstar12,invPstar22),Pstar21))\n",
    "        Q_bk = np.dot(invPstarss,Q1)\n",
    "        \n",
    "        # Final results\n",
    "        H = np.concatenate((np.identity(m),np.zeros((m,n))),axis=1)\n",
    "        R = np.zeros((m,m))\n",
    "        \n",
    "        F = np.concatenate((np.zeros((m+n,m)),np.concatenate((np.dot(H_bk,F_bk),F_bk),axis=0)),axis=1)\n",
    "        Q = np.diagflat(np.sqrt(np.abs(np.concatenate((np.dot(H_bk,Q_bk),Q_bk),axis=0))))\n",
    "\n",
    "    else: # Blanchard Kahn condition not attended\n",
    "        H=np.nan\n",
    "        R=np.nan\n",
    "        F=np.nan\n",
    "        Q=np.nan        \n",
    "    \n",
    "    return ReturnBK(H, R, F, Q)"
   ]
  },
  {
   "cell_type": "code",
   "execution_count": 54,
   "metadata": {
    "collapsed": true
   },
   "outputs": [],
   "source": [
    "# Kalman filter\n",
    "class ReturnKF(object):\n",
    "    def __init__(self, yHat, aMinus, VMinus, L):\n",
    "        self.yHat = yHat\n",
    "        self.aMinus = aMinus\n",
    "        self.VMinus = VMinus\n",
    "        self.L = L\n",
    "\n",
    "def KalmanFilter(H, R, F, Q, y, forecast):\n",
    "    # Useful variables and matrices\n",
    "    m = H.shape[1]\n",
    "    p = H.shape[0]\n",
    "    T = y.shape[0] + forecast\n",
    "    \n",
    "    yHat   = np.zeros((T  ,p))\n",
    "    yFull  = np.concatenate((np.array(y),np.nan*np.zeros((forecast,p))),axis=0)\n",
    "    \n",
    "    nu     = np.zeros((T  ,p))\n",
    "    a      = np.zeros((T  ,m))\n",
    "    aMinus = np.zeros((T+1,m))\n",
    "    \n",
    "    S      = np.zeros((T  ,p,p))\n",
    "    V      = np.zeros((T  ,m,m))\n",
    "    VMinus = np.array([np.identity(m) for t in range(T+1)])\n",
    "    K      = np.zeros((T  ,m,p))\n",
    "    \n",
    "    Ht     = np.transpose(H)\n",
    "    Ft     = np.transpose(F)\n",
    "    \n",
    "    # Recursevely calculates the Kalman filter\n",
    "    for t in range(T):\n",
    "        # Filtered values\n",
    "        yHat[t] = np.dot(H,aMinus[t])\n",
    "\n",
    "        for i in range(p):\n",
    "            if np.isnan(yFull[t][i]):\n",
    "                yFull[t][i] = yHat[t][i]\n",
    "\n",
    "        # Update equations    \n",
    "        nu[t] = yFull[t] - np.dot(H,aMinus[t])\n",
    "        S[t]  = np.dot(np.dot(H,VMinus[t]),Ht) + R\n",
    "        K[t]  = np.dot(np.dot(VMinus[t],Ht),np.linalg.inv(S[t]))\n",
    "        a[t]  = aMinus[t] + np.dot(K[t],nu[t])\n",
    "        V[t]  = np.dot((np.identity(m)-np.dot(K[t],H)),VMinus[t])\n",
    "\n",
    "        # Forecast equations\n",
    "        aMinus[t+1] = np.dot(F,a[t])\n",
    "        VMinus[t+1] = np.dot(np.dot(F,V[t]),Ft) + Q\n",
    "        \n",
    "    # Calculates likelihood\n",
    "    for t in range(T):\n",
    "        L = L + np.linalg.det(S[t]) + np.dot(np.dot(np.transpose(nu[t]),np.linalg.inv(S[t])),nu[t])\n",
    "\n",
    "    L = -T*p/2* np.log(2*np.pi) - 1/2 * L\n",
    "        \n",
    "    return ReturnKF(yHat, aMinus, VMinus, L)\n"
   ]
  },
  {
   "cell_type": "code",
   "execution_count": 57,
   "metadata": {
    "collapsed": false
   },
   "outputs": [],
   "source": [
    "sigma = 1.0\n",
    "beta = 0.99\n",
    "rho = 0.75\n",
    "phi_pi = 1.4\n",
    "v = 1\n",
    "omega = 0.5\n",
    "alpha = 3.0\n",
    "\n",
    "kappa = (1-omega)*(1-beta*omega)/(alpha*omega)\n",
    "\n",
    "A0 = np.array([[1,0,       0],\n",
    "               [0,1, 1/sigma],\n",
    "               [0,0,    beta]])\n",
    "\n",
    "A1 = np.array([[    rho,     0,           0],\n",
    "               [1/sigma,     1,phi_pi/sigma],\n",
    "               [      0,-kappa,           1]])\n",
    "\n",
    "B = np.array([[v],\n",
    "              [0],\n",
    "              [0]])\n",
    "\n",
    "BK = BlanchardKahn(A0,A1,B,1,2)\n",
    "\n",
    "df = pd.read_excel('data.xlsx')\n",
    "dfMissings = pd.DataFrame(df)\n",
    "\n",
    "probMiss = 0.2\n",
    "for t in dfMissings.index:\n",
    "    for i in dfMissings.columns:\n",
    "        if np.random.rand()<probMiss:\n",
    "            dfMissings.loc[t,i]=np.nan\n",
    "\n",
    "KF=KalmanFilter(BK.H, BK.R, BK.F, BK.Q, dfMissings, 10)"
   ]
  },
  {
   "cell_type": "code",
   "execution_count": 64,
   "metadata": {
    "collapsed": false
   },
   "outputs": [
    {
     "name": "stdout",
     "output_type": "stream",
     "text": [
      "100 loops, best of 3: 16.1 ms per loop\n"
     ]
    }
   ],
   "source": [
    "%%timeit\n",
    "BK = BlanchardKahn(A0,A1,B,1,2)\n",
    "KF = KalmanFilter(BK.H, BK.R, BK.F, BK.Q, df, 10)"
   ]
  },
  {
   "cell_type": "code",
   "execution_count": 58,
   "metadata": {
    "collapsed": false,
    "scrolled": true
   },
   "outputs": [
    {
     "data": {
      "text/plain": [
       "[<matplotlib.lines.Line2D at 0x1ec5f26d7f0>]"
      ]
     },
     "execution_count": 58,
     "metadata": {},
     "output_type": "execute_result"
    },
    {
     "data": {
      "image/png": "[encoded data removed]",
      "text/plain": [
       "<matplotlib.figure.Figure at 0x1ec5f119588>"
      ]
     },
     "metadata": {},
     "output_type": "display_data"
    }
   ],
   "source": [
    "i = 0\n",
    "plt.plot(range(KF.yHat.shape[0]),[KF.yHat[t,i] for t in range(KF.yHat.shape[0])],'red')\n",
    "plt.plot(dfMissings[i],'blue')"
   ]
  },
  {
   "cell_type": "code",
   "execution_count": 59,
   "metadata": {
    "collapsed": false
   },
   "outputs": [
    {
     "data": {
      "text/plain": [
       "-2370.1811039853619"
      ]
     },
     "execution_count": 59,
     "metadata": {},
     "output_type": "execute_result"
    }
   ],
   "source": []
  }
 ],
 "metadata": {
  "anaconda-cloud": {},
  "kernelspec": {
   "display_name": "Python [conda root]",
   "language": "python",
   "name": "conda-root-py"
  },
  "language_info": {
   "codemirror_mode": {
    "name": "ipython",
    "version": 3
   },
   "file_extension": ".py",
   "mimetype": "text/x-python",
   "name": "python",
   "nbconvert_exporter": "python",
   "pygments_lexer": "ipython3",
   "version": "3.5.2"
  }
 },
 "nbformat": 4,
 "nbformat_minor": 2
}
